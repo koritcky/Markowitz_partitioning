{
 "cells": [
  {
   "cell_type": "code",
   "execution_count": 2,
   "metadata": {
    "pycharm": {
     "is_executing": false
    }
   },
   "outputs": [
    {
     "data": {
      "text/plain": "5"
     },
     "metadata": {},
     "output_type": "execute_result",
     "execution_count": 2
    }
   ],
   "source": [
    "import time\n",
    "import numpy as np\n",
    "from qboard.cimsim.cimsim import CIMSim\n",
    "from qboard.cimsim import tuner\n",
    "import qboard\n",
    "import qboard.cache\n",
    "from qboard.translators import markowitz\n",
    "from qboard import qubo\n",
    "\n",
    "import os\n",
    "os.chdir('/home/koritskiy/rqc/markowitz_partitioning')\n",
    "os.getcwd()\n",
    "from modules.partitioning import Partitioning"
   ]
  },
  {
   "cell_type": "code",
   "execution_count": 2,
   "metadata": {},
   "outputs": [],
   "source": [
    "np.random.seed(4)\n",
    "# Make console print look better\n",
    "np.set_printoptions(precision=3,  # Digits after point\n",
    "                    linewidth=170,  # Length of the line\n",
    "                    suppress=True)  # Always fixed point notation (not scientific)\n"
   ]
  },
  {
   "cell_type": "code",
   "execution_count": 3,
   "metadata": {
    "scrolled": true
   },
   "outputs": [],
   "source": [
    "block_dim = 344\n",
    "\n",
    "\n",
    "# define the file path\n",
    "def path(name):\n",
    "    return f\"/home/koritskiy/rqc/markowitz_partitioning/data/test_matrices/{block_dim}/{name}{block_dim}.csv\"\n",
    "\n",
    "\n",
    "# download matrices\n",
    "block_mat = np.genfromtxt(path(\"block_mat\"), delimiter=\",\")\n",
    "mix_permutation_mat = np.genfromtxt(path(\"mix_permutation_mat\"), delimiter=\",\")\n",
    "mixed_mat = np.genfromtxt(path(\"mixed_mat\"), delimiter=\",\")\n",
    "\n",
    "# Create object of partitioning task\n",
    "part = Partitioning(mixed_mat, theta=50)\n",
    "bqm = part.bqm"
   ]
  },
  {
   "cell_type": "code",
   "execution_count": 4,
   "metadata": {},
   "outputs": [],
   "source": [
    "Q = part.qubo_mat\n",
    "h, J = qubo.toising(Q)"
   ]
  },
  {
   "cell_type": "code",
   "execution_count": 7,
   "metadata": {
    "scrolled": true
   },
   "outputs": [
    {
     "name": "stdout",
     "output_type": "stream",
     "text": [
      "{'dt': 1.135932530023061e-05, 'sigma': 0.007007702672338741, 'alpha': 0.0, 'S': 11.896968981086516, 'D': -12.007289141982621, 'O': 0.0019393790409842787}\n",
      "WARNING:tensorflow:From /home/koritskiy/anaconda3/envs/markowitz_partitioning/lib/python3.7/site-packages/mloop/neuralnet.py:60: The name tf.Session is deprecated. Please use tf.compat.v1.Session instead.\n",
      "\n",
      "WARNING:tensorflow:From /home/koritskiy/anaconda3/envs/markowitz_partitioning/lib/python3.7/site-packages/mloop/neuralnet.py:77: The name tf.placeholder is deprecated. Please use tf.compat.v1.placeholder instead.\n",
      "\n",
      "WARNING:tensorflow:From /home/koritskiy/anaconda3/envs/markowitz_partitioning/lib/python3.7/site-packages/mloop/neuralnet.py:79: The name tf.placeholder_with_default is deprecated. Please use tf.compat.v1.placeholder_with_default instead.\n",
      "\n",
      "WARNING:tensorflow:From /home/koritskiy/anaconda3/envs/markowitz_partitioning/lib/python3.7/site-packages/mloop/neuralnet.py:92: The name tf.random_normal is deprecated. Please use tf.random.normal instead.\n",
      "\n",
      "WARNING:tensorflow:From /home/koritskiy/anaconda3/envs/markowitz_partitioning/lib/python3.7/site-packages/mloop/neuralnet.py:113: calling dropout (from tensorflow.python.ops.nn_ops) with keep_prob is deprecated and will be removed in a future version.\n",
      "Instructions for updating:\n",
      "Please use `rate` instead of `keep_prob`. Rate should be set to `rate = 1 - keep_prob`.\n",
      "WARNING:tensorflow:From /home/koritskiy/anaconda3/envs/markowitz_partitioning/lib/python3.7/site-packages/tensorflow/python/ops/math_grad.py:1205: add_dispatch_support.<locals>.wrapper (from tensorflow.python.ops.array_ops) is deprecated and will be removed in a future version.\n",
      "Instructions for updating:\n",
      "Use tf.where in 2.0, which has the same broadcast rule as np.where\n",
      "WARNING:tensorflow:From /home/koritskiy/anaconda3/envs/markowitz_partitioning/lib/python3.7/site-packages/mloop/neuralnet.py:137: The name tf.train.AdamOptimizer is deprecated. Please use tf.compat.v1.train.AdamOptimizer instead.\n",
      "\n",
      "WARNING:tensorflow:From /home/koritskiy/anaconda3/envs/markowitz_partitioning/lib/python3.7/site-packages/mloop/neuralnet.py:140: The name tf.global_variables_initializer is deprecated. Please use tf.compat.v1.global_variables_initializer instead.\n",
      "\n",
      "WARNING:tensorflow:From /home/koritskiy/anaconda3/envs/markowitz_partitioning/lib/python3.7/site-packages/mloop/neuralnet.py:143: The name tf.train.Saver is deprecated. Please use tf.compat.v1.train.Saver instead.\n",
      "\n",
      "WARNING:tensorflow:From /home/koritskiy/anaconda3/envs/markowitz_partitioning/lib/python3.7/site-packages/mloop/neuralnet.py:143: The name tf.train.SaverDef is deprecated. Please use tf.compat.v1.train.SaverDef instead.\n",
      "\n",
      "Initial perc: (-41027.833837220045)\tFinal perc:(-40870.491639795444)\tEnergy: (-40870.49163979546)\n",
      "Initial perc: (-41027.833837220045)\tFinal perc:(-41164.79151660442)\tEnergy: (-41164.79151660442)\n",
      "Initial perc: (-41027.833837220045)\tFinal perc:(-41100.79110327455)\tEnergy: (-41245.26609154223)\n",
      "Initial perc: (-41027.833837220045)\tFinal perc:(-41222.49129407629)\tEnergy: (-41352.4457964965)\n",
      "Initial perc: (-41027.833837220045)\tFinal perc:(-41298.004189803025)\tEnergy: (-41398.64759907913)\n",
      "Initial perc: (-41027.833837220045)\tFinal perc:(-41291.96965444586)\tEnergy: (-41458.57639357576)\n",
      "Initial perc: (-41027.833837220045)\tFinal perc:(-41300.557398674944)\tEnergy: (-41468.43933362232)\n"
     ]
    }
   ],
   "source": [
    "import multiprocessing\n",
    "\n",
    "params = qboard.cache.Parameters()\n",
    "print(params[h, J])\n",
    "def optimizer(h, J):\n",
    "    params[h, J] = tuner.optimize(h, J)\n",
    "\n",
    "p = multiprocessing.Process(target=optimizer, name=\"Optimizer\", args=(h, J))\n",
    "timeout = 100\n",
    "p.start()\n",
    "p.join(timeout)\n",
    "\n",
    "# If still optimizing\n",
    "if p.is_alive():\n",
    "    p.terminate()\n",
    "    p.join()\n",
    "    \n",
    "\n",
    "# solutions = qboard.cache.Solutions()\n",
    "# if (h, J) in solutions:\n",
    "#     spins_ising = [1 if _ else -1 for _ in solutions[h, J]]\n",
    "#     energy_ising = qubo.ienergy(h, J, spins_ising)\n",
    "# else:\n",
    "# if not params[h, J]:"
   ]
  },
  {
   "cell_type": "code",
   "execution_count": 13,
   "metadata": {},
   "outputs": [
    {
     "name": "stdout",
     "output_type": "stream",
     "text": [
      "Im done\n"
     ]
    }
   ],
   "source": [
    "cimsim = CIMSim(J, h.reshape(-1, 1), device='cpu')\n",
    "cimsim.set_params({'c_th':1., 'zeta':1., 'init_coupling':0.3, 'final_coupling':1., 'N':1000, 'attempt_num':100000, **params[h, J]})\n",
    "(spins_ising, energy_ising, c_current, c_evol) = cimsim.find_opt()\n",
    "# solutions[h, J] = spins_ising\n",
    "print('Im done')"
   ]
  },
  {
   "cell_type": "code",
   "execution_count": 14,
   "metadata": {},
   "outputs": [
    {
     "name": "stdout",
     "output_type": "stream",
     "text": [
      "Solution permutation matrix:\n",
      "[[0 0 0 1 0 0 0 0 0 0 0]\n",
      " [1 0 0 0 0 0 0 0 0 0 0]\n",
      " [0 0 0 0 0 0 0 0 0 0 0]\n",
      " [0 0 0 0 0 0 0 0 1 0 0]\n",
      " [0 0 0 1 0 0 0 0 0 0 0]\n",
      " [0 0 0 0 1 0 0 0 0 0 0]\n",
      " [0 0 0 0 0 1 0 0 0 0 0]\n",
      " [0 0 0 0 0 0 0 0 0 0 0]\n",
      " [0 0 1 0 0 0 0 0 0 0 0]\n",
      " [0 0 0 0 0 0 0 0 0 1 0]\n",
      " [0 1 0 0 0 0 0 0 0 0 0]]\n",
      "\n",
      "\n",
      "\u001b[93mSolution is not permutation matrix. Trying to fix it\u001b[0m\n",
      "\u001b[93mUnable to fix this shit ¯\\_(ツ)_/¯\u001b[0m\n",
      "Solution matrix after fixing:\n",
      "[[0 0 0 1 0 0 0 0 0 0 0]\n",
      " [1 0 0 0 0 0 0 0 0 0 0]\n",
      " [0 0 0 0 0 0 0 0 0 0 0]\n",
      " [0 0 0 0 0 0 0 0 1 0 0]\n",
      " [0 0 0 1 0 0 0 0 0 0 0]\n",
      " [0 0 0 0 1 0 0 0 0 0 0]\n",
      " [0 0 0 0 0 1 0 0 0 0 0]\n",
      " [0 0 0 0 0 0 0 0 0 0 0]\n",
      " [0 0 1 0 0 0 0 0 0 0 0]\n",
      " [0 0 0 0 0 0 0 0 0 1 0]\n",
      " [0 1 0 0 0 0 0 0 0 0 0]]\n",
      "Ordered matrix:\n",
      "[[0.894 0.    0.    0.465 0.    0.693 0.    0.    0.    0.    0.   ]\n",
      " [0.    0.898 0.769 0.407 0.232 0.    0.    0.    0.    0.    0.   ]\n",
      " [0.    0.769 0.945 0.723 0.557 0.    0.    0.    0.    0.    0.   ]\n",
      " [0.465 0.407 0.723 1.758 0.799 0.602 0.    0.    0.    0.    0.   ]\n",
      " [0.    0.232 0.557 0.799 0.975 0.    0.    0.    0.    0.    0.   ]\n",
      " [0.693 0.    0.    0.602 0.    0.812 0.    0.    0.    0.    0.   ]\n",
      " [0.    0.    0.    0.    0.    0.    0.    0.    0.    0.    0.   ]\n",
      " [0.    0.    0.    0.    0.    0.    0.    0.    0.    0.    0.   ]\n",
      " [0.    0.    0.    0.    0.    0.    0.    0.    0.926 0.661 0.   ]\n",
      " [0.    0.    0.    0.    0.    0.    0.    0.    0.661 0.836 0.   ]\n",
      " [0.    0.    0.    0.    0.    0.    0.    0.    0.    0.    0.   ]]\n",
      "\n",
      "\n"
     ]
    }
   ],
   "source": [
    "solution = np.array([int((i+1)/2) for i in spins_ising])\n",
    "part.permutation_mat = part.list_to_mat(solution)\n",
    "print(\"Solution permutation matrix:\")\n",
    "print(part.permutation_mat)\n",
    "print(\"\\n\")\n",
    "\n",
    "# Check, whether solution matrix is permutation one\n",
    "if not part.permutation_check(part.permutation_mat):\n",
    "    print('\\033[93m' + \"Solution is not permutation matrix. \" +\n",
    "          \"Trying to fix it\" + '\\033[0m')\n",
    "    new_solution_permutation_mat = part.to_permutation(part.permutation_mat)\n",
    "    if part.permutation_check(new_solution_permutation_mat):\n",
    "        print('\\033[93m' + \"Success!\" + '\\033[0m')\n",
    "        part.permutation_mat = new_solution_permutation_mat\n",
    "    print(\"Solution matrix after fixing:\")\n",
    "    print(part.permutation_mat)\n",
    "\n",
    "part.ordered_mat = part.permute(part.permutation_mat, part.mixed_mat)\n",
    "print(\"Ordered matrix:\")\n",
    "print(part.ordered_mat)\n",
    "print(\"\\n\")"
   ]
  },
  {
   "cell_type": "code",
   "execution_count": 45,
   "metadata": {},
   "outputs": [
    {
     "name": "stdout",
     "output_type": "stream",
     "text": [
      "Hello 5\n"
     ]
    }
   ],
   "source": [
    "a = 5\n",
    "print(f\"Hello {a}\")"
   ]
  },
  {
   "cell_type": "code",
   "execution_count": null,
   "metadata": {},
   "outputs": [],
   "source": []
  }
 ],
 "metadata": {
  "kernelspec": {
   "display_name": "Python(markowitz_partitioning)",
   "language": "python",
   "name": "markowitz_partitioning"
  },
  "language_info": {
   "codemirror_mode": {
    "name": "ipython",
    "version": 3
   },
   "file_extension": ".py",
   "mimetype": "text/x-python",
   "name": "python",
   "nbconvert_exporter": "python",
   "pygments_lexer": "ipython3",
   "version": "3.7.4"
  },
  "pycharm": {
   "stem_cell": {
    "cell_type": "raw",
    "source": [],
    "metadata": {
     "collapsed": false
    }
   }
  }
 },
 "nbformat": 4,
 "nbformat_minor": 2
}