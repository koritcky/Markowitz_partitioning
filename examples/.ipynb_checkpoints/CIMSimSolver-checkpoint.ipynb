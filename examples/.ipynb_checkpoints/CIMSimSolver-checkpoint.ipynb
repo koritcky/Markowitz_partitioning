{
 "cells": [
  {
   "cell_type": "code",
   "execution_count": 1,
   "metadata": {},
   "outputs": [],
   "source": [
    "import numpy as np\n",
    "import time\n",
    "from cimsim.cimsim import CIMSim\n",
    "import gendata.cache\n",
    "import collections\n",
    "import mark\n",
    "import qubo\n",
    "import os"
   ]
  },
  {
   "cell_type": "code",
   "execution_count": 2,
   "metadata": {},
   "outputs": [],
   "source": [
    "path_prefix = 'markowitz_data/'\n",
    "test_prefix = 'markowitz_1804_15/'\n",
    "file_prices = path_prefix + test_prefix + \"prices.csv\"\n",
    "file_averages = path_prefix + test_prefix + \"averages.csv\"\n",
    "file_covariance = path_prefix + test_prefix + \"covariance.csv\"\n",
    "Minanswer = collections.namedtuple('Minanswer', 'min sigma dt alpha S D O iperc fperc')\n",
    "try:\n",
    "    minanswers = gendata.cache.Parameters().get(test_prefix[:-1])\n",
    "    print(minanswers)\n",
    "    minanswer = minanswers[-1]\n",
    "except KeyError:\n",
    "    pass"
   ]
  },
  {
   "cell_type": "code",
   "execution_count": 3,
   "metadata": {},
   "outputs": [],
   "source": [
    "Q, _ = mark.load(os.path.join(path_prefix, test_prefix))\n",
    "h, J = qubo.toising(Q)\n",
    "cimsim = CIMSim(J, h.reshape(-1, 1), device='cpu')\n",
    "try:\n",
    "    cimsim.set_params({'c_th':1., 'zeta':1., 'init_coupling':0.3, 'final_coupling':1., 'N':1000, 'attempt_num':30000, 'dt':minanswer.dt, 'sigma': minanswer.sigma, 'alpha': minanswer.alpha, 'S': minanswer.S, 'D': minanswer.D, 'O': minanswer.O})\n",
    "except NameError:\n",
    "    cimsim.set_params({'c_th':1., 'zeta':1., 'init_coupling':0.3, 'final_coupling':1., 'N':1000, 'attempt_num':30000})\n",
    "(spins_ising, energy_ising, c_current, c_evol) = cimsim.find_opt()"
   ]
  },
  {
   "cell_type": "code",
   "execution_count": 4,
   "metadata": {
    "scrolled": true
   },
   "outputs": [
    {
     "data": {
      "text/plain": [
       "(tensor(-18989.9784, dtype=torch.float64),\n",
       " [-1.0,\n",
       "  -1.0,\n",
       "  -1.0,\n",
       "  1.0,\n",
       "  1.0,\n",
       "  -1.0,\n",
       "  -1.0,\n",
       "  -1.0,\n",
       "  1.0,\n",
       "  -1.0,\n",
       "  -1.0,\n",
       "  1.0,\n",
       "  -1.0,\n",
       "  1.0,\n",
       "  -1.0])"
      ]
     },
     "execution_count": 4,
     "metadata": {},
     "output_type": "execute_result"
    }
   ],
   "source": [
    "energy_ising, spins_ising"
   ]
  }
 ],
 "metadata": {
  "anaconda-cloud": {},
  "kernelspec": {
   "display_name": "Python 3",
   "language": "python",
   "name": "python3"
  },
  "language_info": {
   "codemirror_mode": {
    "name": "ipython",
    "version": 3
   },
   "file_extension": ".py",
   "mimetype": "text/x-python",
   "name": "python",
   "nbconvert_exporter": "python",
   "pygments_lexer": "ipython3",
   "version": "3.7.3"
  }
 },
 "nbformat": 4,
 "nbformat_minor": 2
}
