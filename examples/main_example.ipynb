{
 "cells": [
  {
   "cell_type": "markdown",
   "metadata": {
    "collapsed": true,
    "pycharm": {
     "name": "#%% md\n"
    }
   },
   "source": [
    "# Main example\n",
    "#### Here will be described and realized the whole process of the algorithm. "
   ]
  },
  {
   "cell_type": "markdown",
   "source": [
    "Preparations"
   ],
   "metadata": {
    "collapsed": false,
    "pycharm": {
     "name": "#%% md\n"
    }
   }
  },
  {
   "cell_type": "code",
   "execution_count": 6,
   "outputs": [
    {
     "data": {
      "text/plain": "'/home/koritskiy/rqc/markowitz_partitioning'"
     },
     "metadata": {},
     "output_type": "execute_result",
     "execution_count": 6
    }
   ],
   "source": [
    "import os\n",
    "# change dir to the the root, where is the repo\n",
    "os.chdir('/home/koritskiy/rqc/markowitz_partitioning')\n",
    "import numpy as np\n",
    "\n",
    "import time\n",
    "from qboard.cimsim.cimsim import CIMSim\n",
    "from qboard.cimsim import tuner\n",
    "import qboard\n",
    "import qboard.cache\n",
    "from qboard.translators import markowitz\n",
    "from qboard import qubo\n",
    "from modules.partitioning import Partitioning\n",
    "from modules.markowitz import Portfolio\n",
    "\n",
    "# make an output matrices look better\n",
    "np.set_printoptions(precision=3,  # Digits after point\n",
    "                    linewidth=170,  # Length of the line\n",
    "                    suppress=True)  # Always fixed point notation (not scientific)\n",
    "# fix randomness \n",
    "np.random.seed(4)\n",
    "os.getcwd()"
   ],
   "metadata": {
    "collapsed": false,
    "pycharm": {
     "name": "#%%\n",
     "is_executing": false
    }
   }
  },
  {
   "cell_type": "markdown",
   "source": [
    "Here we will be playing with covariance matrices that, after some permutation of rows and columns,\n",
    "have block structure. In real life that rarely happens, but this way it would be easier to \n",
    "follow the logic of algorithm. \n",
    "Matrix that has submatrices of dimensions d1, d2, ... , dn on diagonal would be labled `block_dim = [d1,d2,...,dn]`. \n",
    "So let's create a block matrix and randomly premute it. We can do it with code like this:\n",
    "```\n",
    "block_mat = Partitioning.rand_sym_block_gen(block_dim)\n",
    "_, mixed_mat = Partitioning.mixed_matrix_generator(block_mat=block_mat)\n",
    "covariance = mixed_mat\n",
    "``` \n",
    "But it was already done and necessary matrices was generated for coherent testing.\n",
    "All matrices and permutations are in `data/test_matrices/%block_dim%` with following naming:\n",
    "* block_mat - block matrix before permutation;\n",
    "* mixed_mat - matrix after permutation;\n",
    "* mix_permutation_mat - permutation matrix that was applied to block_mat to get mixed_mat."
   ],
   "metadata": {
    "collapsed": false
   }
  },
  {
   "cell_type": "code",
   "execution_count": 16,
   "outputs": [],
   "source": [
    "block_dim = [3, 3, 4]\n",
    "block_dim_name = \"\".join(str(n) for n in block_dim) # for paths\n",
    "g_dim = sum(block_dim)\n",
    "# upload averages, and prices from markowitz_data and prepared random covariance\n",
    "path = '/home/koritskiy/rqc/markowitz_partitioning' # insert your root\n",
    "averages = np.genfromtxt(f'{path}/markowitz_data/markowitz_2006_10/averages.csv', delimiter=\",\")\n",
    "prices = np.genfromtxt(f'{path}/markowitz_data/markowitz_2006_10/prices.csv', delimiter=\",\")\n",
    "covariance = np.genfromtxt(f'{path}/data/test_matrices/{block_dim_name}/mixed_mat{block_dim_name}.csv', delimiter=\",\")\n",
    "\n",
    "# for future purposes\n",
    "block_mat = np.genfromtxt(f'{path}/data/test_matrices/{block_dim_name}/block_mat{block_dim_name}.csv', delimiter=\",\")\n",
    "mix_permutation_mat = np.genfromtxt(f'{path}/data/test_matrices/{block_dim_name}/mix_permutation_mat{block_dim_name}.csv', delimiter=\",\")\n",
    "\n",
    "# set parameters for markowitz problem in order : [averages, covariance, price]\n",
    "theta = [0.5, 0.5, 0]\n",
    "\n",
    "\n"
   ],
   "metadata": {
    "collapsed": false,
    "pycharm": {
     "name": "#%% \n",
     "is_executing": false
    }
   }
  }
 ],
 "metadata": {
  "language_info": {
   "codemirror_mode": {
    "name": "ipython",
    "version": 2
   },
   "file_extension": ".py",
   "mimetype": "text/x-python",
   "name": "python",
   "nbconvert_exporter": "python",
   "pygments_lexer": "ipython2",
   "version": "2.7.6"
  },
  "kernelspec": {
   "name": "python3",
   "language": "python",
   "display_name": "Python 3"
  },
  "pycharm": {
   "stem_cell": {
    "cell_type": "raw",
    "source": [],
    "metadata": {
     "collapsed": false
    }
   }
  }
 },
 "nbformat": 4,
 "nbformat_minor": 0
}