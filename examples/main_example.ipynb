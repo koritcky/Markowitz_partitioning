{
 "cells": [
  {
   "cell_type": "markdown",
   "metadata": {
    "collapsed": true,
    "pycharm": {
     "name": "#%% md\n"
    }
   },
   "source": [
    "# Main example\n",
    "#### Here will be described and realized the whole process of the algorithm. "
   ]
  },
  {
   "cell_type": "code",
   "execution_count": 74,
   "outputs": [],
   "source": [
    "# preparations\n",
    "import os\n",
    "# change dir to the the root, where is the repo\n",
    "os.chdir('/home/koritskiy/rqc/markowitz_partitioning')\n",
    "import numpy as np\n",
    "import time\n",
    "from qboard.cimsim.cimsim import CIMSim\n",
    "from qboard.cimsim import tuner\n",
    "import qboard\n",
    "import qboard.cache\n",
    "from qboard.translators import markowitz\n",
    "from qboard import qubo\n",
    "from modules.partitioning import Partitioning\n",
    "from modules.markowitz import Portfolio\n",
    "from modules.recomposers import Recomposers\n",
    "\n",
    "# make an output matrices look better\n",
    "np.set_printoptions(precision=3,  # Digits after point\n",
    "                    linewidth=170,  # Length of the line\n",
    "                    suppress=True)  # Always fixed point notation (not scientific)\n",
    "# fix randomness \n",
    "np.random.seed(4)"
   ],
   "metadata": {
    "collapsed": false,
    "pycharm": {
     "name": "#%%\n",
     "is_executing": false
    }
   }
  },
  {
   "cell_type": "markdown",
   "source": [
    "In this example we will be playing with covariance matrices that, after some permutation of rows and columns,\n",
    "have block structure. In real life that rarely happens, but this way it would be easier to \n",
    "follow the logic of algorithm. \n",
    "Matrix that has submatrices of dimensions d1, d2, ... , dn on diagonal would be labled `block_dim = [d1,d2,...,dn]`. \n",
    "So let's create a block matrix and randomly premute it. \n",
    "* `block_mat` - block matrix before permutation;\n",
    "* `mixed_mat` - block matrix after permutation;\n",
    "* `mix_permutation_mat` - permutation matrix that was applied to `block_mat` to get `mixed_mat`."
   ],
   "metadata": {
    "collapsed": false
   }
  },
  {
   "cell_type": "code",
   "execution_count": 75,
   "outputs": [
    {
     "name": "stdout",
     "text": [
      "Given random block matrix:\n[[ 0.619 -0.088  0.425  0.     0.     0.     0.     0.     0.     0.   ]\n [ 0.244 -1.157  0.351  0.     0.     0.     0.     0.     0.     0.   ]\n [-0.182  1.898  0.723  0.     0.     0.     0.     0.     0.     0.   ]\n [ 0.     0.     0.     0.046 -0.983  0.054  0.     0.     0.     0.   ]\n [ 0.     0.     0.    -0.823 -1.209  2.223  0.     0.     0.     0.   ]\n [ 0.     0.     0.     0.449  3.916 -1.113  0.     0.     0.     0.   ]\n [ 0.     0.     0.     0.     0.     0.     1.636 -1.361 -0.651  0.542]\n [ 0.     0.     0.     0.     0.     0.    -1.313 -2.358 -1.106  0.838]\n [ 0.     0.     0.     0.     0.     0.     1.437 -0.191 -0.276  0.797]\n [ 0.     0.     0.     0.     0.     0.    -0.601  1.348 -0.551 -0.009]]\n\n\nRandom permutation matrix:\n[[0. 0. 0. 0. 0. 1. 0. 0. 0. 0.]\n [0. 0. 0. 0. 0. 0. 0. 1. 0. 0.]\n [0. 0. 1. 0. 0. 0. 0. 0. 0. 0.]\n [0. 1. 0. 0. 0. 0. 0. 0. 0. 0.]\n [0. 0. 0. 0. 0. 0. 0. 0. 1. 0.]\n [0. 0. 0. 0. 0. 0. 0. 0. 0. 1.]\n [1. 0. 0. 0. 0. 0. 0. 0. 0. 0.]\n [0. 0. 0. 1. 0. 0. 0. 0. 0. 0.]\n [0. 0. 0. 0. 0. 0. 1. 0. 0. 0.]\n [0. 0. 0. 0. 1. 0. 0. 0. 0. 0.]]\n\n\nMixed matrix\n[[ 1.636  0.     0.    -1.361  0.542  0.    -0.651  0.     0.     0.   ]\n [ 0.     0.046  0.     0.     0.     0.     0.     0.    -0.983  0.054]\n [ 0.     0.     0.723  0.     0.    -0.182  0.     1.898  0.     0.   ]\n [-1.313  0.     0.    -2.358  0.838  0.    -1.106  0.     0.     0.   ]\n [-0.601  0.     0.     1.348 -0.009  0.    -0.551  0.     0.     0.   ]\n [ 0.     0.     0.425  0.     0.     0.619  0.    -0.088  0.     0.   ]\n [ 1.437  0.     0.    -0.191  0.797  0.    -0.276  0.     0.     0.   ]\n [ 0.     0.     0.351  0.     0.     0.244  0.    -1.157  0.     0.   ]\n [ 0.    -0.823  0.     0.     0.     0.     0.     0.    -1.209  2.223]\n [ 0.     0.449  0.     0.     0.     0.     0.     0.     3.916 -1.113]]\n\n\n"
     ],
     "output_type": "stream"
    }
   ],
   "source": [
    "block_dim = [3, 3, 4]\n",
    "block_dim_name = \"\".join(str(n) for n in block_dim) # for paths\n",
    "g_dim = sum(block_dim)\n",
    "averages = np.random.rand(g_dim)\n",
    "prices = np.random.rand(g_dim)\n",
    "\n",
    "block_mat = Partitioning.rand_sym_block_gen(block_dim)\n",
    "_, mixed_mat,_ = Partitioning.mixed_matrix_generator(block_mat=block_mat)\n",
    "covariance = mixed_mat\n",
    "\n",
    "# set parameters for markowitz problem in the following order : [averages, covariance, price]\n",
    "theta = [0.5, 0.5, 0]"
   ],
   "metadata": {
    "collapsed": false,
    "pycharm": {
     "name": "#%% \n",
     "is_executing": false
    }
   }
  },
  {
   "cell_type": "markdown",
   "source": [
    "Now we create an object of `Portfolio` class that will build BQM model based on all the input for solving\n",
    "markowitz portfolio problem and `Partitioning` that would find out how to break down a big covariance matrix into\n",
    "the smaller ones. Do not confuse `theta` in these classes: in `Partitioning` it refers to the coefficient \n",
    "with penalty term when matrix is not permutation one. Look [original paper](https://1qbit.com/whitepaper/quantum-inspired-hierarchical-risk-parity/) for details.  \n",
    "\n"
   ],
   "metadata": {
    "collapsed": false
   }
  },
  {
   "cell_type": "code",
   "execution_count": 76,
   "outputs": [],
   "source": [
    "portfolio = Portfolio(theta=theta,\n",
    "                      averages=averages,\n",
    "                      prices=prices,\n",
    "                      covariance=covariance)\n",
    "part = Partitioning(mixed_mat=portfolio.covariance,\n",
    "                    theta = 100)\n",
    "\n"
   ],
   "metadata": {
    "collapsed": false,
    "pycharm": {
     "name": "#%%\n",
     "is_executing": false
    }
   }
  },
  {
   "cell_type": "markdown",
   "source": [
    "Now we want to solve partitioning problem using Kerberos solver. For this purpose we import `KerberosSampler`\n",
    "from modified module `cim_kerberos`. The switcher between dwave and simcim subproblem solver \n",
    "is `simcim` flag. \n"
   ],
   "metadata": {
    "collapsed": false,
    "pycharm": {
     "name": "#%% md\n"
    }
   }
  },
  {
   "cell_type": "code",
   "execution_count": 77,
   "outputs": [
    {
     "name": "stdout",
     "text": [
      "Begin of 0th iteration\n",
      "End of 0th iteration\nBegin of 1th iteration\n",
      "End of 1th iteration\n"
     ],
     "output_type": "stream"
    }
   ],
   "source": [
    "from modules.cim_kerberos import KerberosSampler\n",
    "response = KerberosSampler().sample(bqm = part.bqm, # bqm we want to solve\n",
    "                                    max_subproblem_size=60, # subproblem size that is sent to subsolver (simcim or dwave)\n",
    "                                    num_reads=2, # number of iterations of each branch\n",
    "                                    simcim=False, # if True, use simcim, else send to dwave\n",
    "                                    tuner_timeout=50, # how long (in seconds) wait for tuner to find params for simcim\n",
    "                                    simcim_attempt_num=10000 # number of attempts of simcim solver\n",
    "                                    )\n",
    "solution = np.array([int(i) for i in response.first[0].values()])\n",
    "\n",
    "# turn solution vector into matrix and assign it as a property of our problem\n",
    "part.permutation_mat = part.list_to_mat(solution)"
   ],
   "metadata": {
    "collapsed": false,
    "pycharm": {
     "name": "#%% \n",
     "is_executing": false
    }
   }
  },
  {
   "cell_type": "markdown",
   "source": [
    "Now we want to check, whether solution matrix is permutation one. If not - simple bruteforce will\n",
    "try to find best fix, but it won't work if number of mistakes is more than 8. \n",
    "\n",
    "(*It's possible to make this \"fixer\" better, but we assume that our mistake is small and if not - \n",
    "choose another solver*)"
   ],
   "metadata": {
    "collapsed": false,
    "pycharm": {
     "name": "#%% md\n"
    }
   }
  },
  {
   "cell_type": "code",
   "execution_count": 78,
   "outputs": [
    {
     "data": {
      "text/plain": "array([[ 0.046, -0.983,  0.054,  0.   ,  0.   ,  0.   ,  0.   ,  0.   ,  0.   ,  0.   ],\n       [-0.823, -1.209,  2.223,  0.   ,  0.   ,  0.   ,  0.   ,  0.   ,  0.   ,  0.   ],\n       [ 0.449,  3.916, -1.113,  0.   ,  0.   ,  0.   ,  0.   ,  0.   ,  0.   ,  0.   ],\n       [ 0.   ,  0.   ,  0.   , -0.009, -0.551,  1.348, -0.601,  0.   ,  0.   ,  0.   ],\n       [ 0.   ,  0.   ,  0.   ,  0.797, -0.276, -0.191,  1.437,  0.   ,  0.   ,  0.   ],\n       [ 0.   ,  0.   ,  0.   ,  0.838, -1.106, -2.358, -1.313,  0.   ,  0.   ,  0.   ],\n       [ 0.   ,  0.   ,  0.   ,  0.542, -0.651, -1.361,  1.636,  0.   ,  0.   ,  0.   ],\n       [ 0.   ,  0.   ,  0.   ,  0.   ,  0.   ,  0.   ,  0.   , -1.157,  0.351,  0.244],\n       [ 0.   ,  0.   ,  0.   ,  0.   ,  0.   ,  0.   ,  0.   ,  1.898,  0.723, -0.182],\n       [ 0.   ,  0.   ,  0.   ,  0.   ,  0.   ,  0.   ,  0.   , -0.088,  0.425,  0.619]])"
     },
     "metadata": {},
     "output_type": "execute_result",
     "execution_count": 78
    }
   ],
   "source": [
    "if not part.permutation_check(part.permutation_mat):\n",
    "    # try to finx it by bruteforce\n",
    "    new_solution_permutation_mat = part.to_permutation(part.permutation_mat)\n",
    "    if part.permutation_check(new_solution_permutation_mat):\n",
    "        part.permutation_mat = new_solution_permutation_mat\n",
    "part.ordered_mat = part.permute(part.permutation_mat, part.mixed_mat)\n",
    "\n",
    "# have a look at ordered matrix\n",
    "part.ordered_mat"
   ],
   "metadata": {
    "collapsed": false,
    "pycharm": {
     "name": "#%%\n",
     "is_executing": false
    }
   }
  },
  {
   "cell_type": "markdown",
   "source": [
    "Now we have a permutation, that makes our covariance matrix looks like block-diagonal.\n",
    "We want to take these blocks and solve it separately, find solutions (here exactly) and concatenate it. "
   ],
   "metadata": {
    "collapsed": false
   }
  },
  {
   "cell_type": "code",
   "execution_count": 79,
   "outputs": [
    {
     "name": "stdout",
     "text": [
      "[1 1 0]\n[0 0 1 1]\n[1 0 0]\nSolution with partitioning:\n"
     ],
     "output_type": "stream"
    },
    {
     "data": {
      "text/plain": "(-5.109080066994888, array([1, 1, 0, 1, 0, 0, 0, 1, 1, 0]))"
     },
     "metadata": {},
     "output_type": "execute_result",
     "execution_count": 79
    }
   ],
   "source": [
    "# Get a list of smaller portfolios which has covariance, prices and averages according to permutation \n",
    "portfolios = Recomposers.permutation_decomposer(portfolio=portfolio, # main portfolio problem\n",
    "                                                permutation_mat=part.permutation_mat,\n",
    "                                                max_dim=(max(block_dim) + 1),\n",
    "                                                theta=[0.5,0.5,0]) #maximal size of block to cut\n",
    "\n",
    "# Solve each small portfolio with dwave_solver\n",
    "solutions = []\n",
    "for small_portfolio in portfolios:\n",
    "    _, small_solution = small_portfolio.exact_solver()\n",
    "    print(small_solution)\n",
    "    solutions.append(small_solution)\n",
    "\n",
    "# Apply permutation to concatenated solution to get the solution of the original portfolio\n",
    "composed_solution = Recomposers.permutation_solution_composer(solutions, part.permutation_mat)\n",
    "print(\"Solution with partitioning:\")\n",
    "portfolio.solution_energy(composed_solution), composed_solution\n"
   ],
   "metadata": {
    "collapsed": false,
    "pycharm": {
     "name": "#%%\n",
     "is_executing": false
    }
   }
  },
  {
   "cell_type": "code",
   "execution_count": 80,
   "outputs": [
    {
     "data": {
      "text/plain": "(-7.492128848664729, array([1, 1, 0, 1, 0, 0, 1, 1, 1, 0]))"
     },
     "metadata": {},
     "output_type": "execute_result",
     "execution_count": 80
    }
   ],
   "source": [
    "# Now compare it with exact solution of the whole matrix\n",
    "exact_solution = portfolio.exact_solver()\n",
    "exact_solution"
   ],
   "metadata": {
    "collapsed": false,
    "pycharm": {
     "name": "#%%\n",
     "is_executing": false
    }
   }
  },
  {
   "cell_type": "code",
   "execution_count": 81,
   "outputs": [
    {
     "data": {
      "text/plain": "0.1"
     },
     "metadata": {},
     "output_type": "execute_result",
     "execution_count": 81
    }
   ],
   "source": [
    "# relative hamming distance between these solutions:\n",
    "sum(i ^ j for i,j in zip(composed_solution, exact_solution[1]))/len(composed_solution)\n",
    "\n"
   ],
   "metadata": {
    "collapsed": false,
    "pycharm": {
     "name": "#%%\n",
     "is_executing": false
    }
   }
  }
 ],
 "metadata": {
  "language_info": {
   "codemirror_mode": {
    "name": "ipython",
    "version": 2
   },
   "file_extension": ".py",
   "mimetype": "text/x-python",
   "name": "python",
   "nbconvert_exporter": "python",
   "pygments_lexer": "ipython2",
   "version": "2.7.6"
  },
  "kernelspec": {
   "name": "markowitz_partitioning",
   "language": "python",
   "display_name": "Python(markowitz_partitioning)"
  },
  "pycharm": {
   "stem_cell": {
    "cell_type": "raw",
    "source": [],
    "metadata": {
     "collapsed": false
    }
   }
  }
 },
 "nbformat": 4,
 "nbformat_minor": 0
}