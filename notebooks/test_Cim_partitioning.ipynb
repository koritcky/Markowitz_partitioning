{
 "cells": [
  {
   "cell_type": "code",
   "execution_count": 1,
   "metadata": {},
   "outputs": [],
   "source": [
    "import time\n",
    "import numpy as np\n",
    "from qboard.cimsim.cimsim import CIMSim\n",
    "from qboard.cimsim import tuner\n",
    "import qboard\n",
    "import qboard.cache\n",
    "from qboard.translators import markowitz\n",
    "from qboard import qubo\n",
    "\n",
    "import os\n",
    "os.chdir('/home/koritskiy/rqc/Markowitz_partitioning')\n",
    "os.getcwd()\n",
    "from modules.partitioning import Partitioning"
   ]
  },
  {
   "cell_type": "code",
   "execution_count": 2,
   "metadata": {},
   "outputs": [],
   "source": [
    "np.random.seed(4)\n",
    "# Make console print look better\n",
    "np.set_printoptions(precision=3,  # Digits after point\n",
    "                    linewidth=170,  # Length of the line\n",
    "                    suppress=True)  # Always fixed point notation (not scientific)\n"
   ]
  },
  {
   "cell_type": "code",
   "execution_count": 23,
   "metadata": {
    "scrolled": true
   },
   "outputs": [],
   "source": [
    "block_dim = 344\n",
    "\n",
    "\n",
    "# define the file path\n",
    "def path(name):\n",
    "    return f\"/home/koritskiy/rqc/Markowitz_partitioning/data/test_matrices/{block_dim}/{name}{block_dim}.csv\"\n",
    "\n",
    "\n",
    "# download matrices\n",
    "block_mat = np.genfromtxt(path(\"block_mat\"), delimiter=\",\")\n",
    "mix_permutation_mat = np.genfromtxt(path(\"mix_permutation_mat\"), delimiter=\",\")\n",
    "mixed_mat = np.genfromtxt(path(\"mixed_mat\"), delimiter=\",\")\n",
    "\n",
    "# Create object of partitioning task\n",
    "part = Partitioning(mixed_mat, theta=50)\n",
    "bqm = part.bqm"
   ]
  },
  {
   "cell_type": "code",
   "execution_count": 28,
   "metadata": {},
   "outputs": [],
   "source": [
    "Q = part.qubo_mat\n",
    "h, J = qubo.toising(Q)\n",
    "solutions = qboard.cache.Solutions()\n",
    "# if (h, J) in solutions:\n",
    "#     spins_ising = [1 if _ else -1 for _ in solutions[h, J]]\n",
    "#     energy_ising = qubo.ienergy(h, J, spins_ising)\n",
    "# else:\n",
    "params = qboard.cache.Parameters()\n",
    "if not params[h, J]:\n",
    "    params[h, J] = tuner.optimize(h, J)\n",
    "cimsim = CIMSim(J, h.reshape(-1, 1), device='cpu')\n",
    "cimsim.set_params({'c_th':1., 'zeta':1., 'init_coupling':0.3, 'final_coupling':1., 'N':1000, 'attempt_num':10000, **params[h, J]})\n",
    "(spins_ising, energy_ising, c_current, c_evol) = cimsim.find_opt()\n",
    "solutions[h, J] = spins_ising\n",
    "print('Im done')"
   ]
  },
  {
   "cell_type": "code",
   "execution_count": 29,
   "metadata": {},
   "outputs": [
    {
     "name": "stdout",
     "output_type": "stream",
     "text": [
      "Solution permutation matrix:\n",
      "[[0 1 0 0 0 0 0 0 0 0 0]\n",
      " [0 0 0 0 0 0 0 0 1 0 0]\n",
      " [0 0 0 0 0 0 0 0 0 1 0]\n",
      " [0 0 0 0 0 0 0 1 0 0 0]\n",
      " [0 0 0 0 1 0 0 0 0 0 0]\n",
      " [0 0 0 0 0 0 1 0 0 0 0]\n",
      " [0 0 1 0 0 0 0 0 0 0 0]\n",
      " [0 0 0 0 0 0 0 0 0 0 0]\n",
      " [0 0 0 1 0 0 0 0 0 0 0]\n",
      " [0 0 0 0 0 0 0 0 0 0 0]\n",
      " [0 0 0 0 0 1 0 0 0 0 0]]\n",
      "\n",
      "\n",
      "\u001b[93mSolution is not permutation matrix. Trying to fix it\u001b[0m\n",
      "\u001b[93mNumber of wrong lines:\u001b[0m\n",
      "\u001b[93m2\u001b[0m\n",
      "\u001b[93mSuccess!\u001b[0m\n",
      "Solution matrix after fixing:\n",
      "[[0. 1. 0. 0. 0. 0. 0. 0. 0. 0. 0.]\n",
      " [0. 0. 0. 0. 0. 0. 0. 0. 1. 0. 0.]\n",
      " [0. 0. 0. 0. 0. 0. 0. 0. 0. 1. 0.]\n",
      " [0. 0. 0. 0. 0. 0. 0. 1. 0. 0. 0.]\n",
      " [0. 0. 0. 0. 1. 0. 0. 0. 0. 0. 0.]\n",
      " [0. 0. 0. 0. 0. 0. 1. 0. 0. 0. 0.]\n",
      " [0. 0. 1. 0. 0. 0. 0. 0. 0. 0. 0.]\n",
      " [1. 0. 0. 0. 0. 0. 0. 0. 0. 0. 0.]\n",
      " [0. 0. 0. 1. 0. 0. 0. 0. 0. 0. 0.]\n",
      " [0. 0. 0. 0. 0. 0. 0. 0. 0. 0. 1.]\n",
      " [0. 0. 0. 0. 0. 1. 0. 0. 0. 0. 0.]]\n",
      "Ordered matrix:\n",
      "[[0.926 0.377 0.582 0.    0.    0.    0.    0.    0.761 0.    0.   ]\n",
      " [0.377 0.809 0.602 0.    0.    0.    0.    0.    0.465 0.    0.   ]\n",
      " [0.582 0.602 0.812 0.    0.    0.    0.    0.    0.693 0.    0.   ]\n",
      " [0.    0.    0.    0.945 0.723 0.769 0.557 0.    0.    0.    0.   ]\n",
      " [0.    0.    0.    0.723 0.949 0.407 0.799 0.    0.    0.    0.   ]\n",
      " [0.    0.    0.    0.769 0.407 0.898 0.232 0.    0.    0.    0.   ]\n",
      " [0.    0.    0.    0.557 0.799 0.232 0.975 0.    0.    0.    0.   ]\n",
      " [0.    0.    0.    0.    0.    0.    0.    0.926 0.    0.727 0.661]\n",
      " [0.761 0.465 0.693 0.    0.    0.    0.    0.    0.894 0.    0.   ]\n",
      " [0.    0.    0.    0.    0.    0.    0.    0.727 0.    0.771 0.47 ]\n",
      " [0.    0.    0.    0.    0.    0.    0.    0.661 0.    0.47  0.836]]\n",
      "\n",
      "\n"
     ]
    }
   ],
   "source": [
    "solution = np.array([int((i+1)/2) for i in spins_ising])\n",
    "part.permutation_mat = part.list_to_mat(solution)\n",
    "print(\"Solution permutation matrix:\")\n",
    "print(part.permutation_mat)\n",
    "print(\"\\n\")\n",
    "\n",
    "# Check, whether solution matrix is permutation one\n",
    "if not part.permutation_check(part.permutation_mat):\n",
    "    print('\\033[93m' + \"Solution is not permutation matrix. \" +\n",
    "          \"Trying to fix it\" + '\\033[0m')\n",
    "    new_solution_permutation_mat = part.to_permutation(part.permutation_mat)\n",
    "    if part.permutation_check(new_solution_permutation_mat):\n",
    "        print('\\033[93m' + \"Success!\" + '\\033[0m')\n",
    "        part.permutation_mat = new_solution_permutation_mat\n",
    "    print(\"Solution matrix after fixing:\")\n",
    "    print(part.permutation_mat)\n",
    "\n",
    "part.ordered_mat = part.permute(part.permutation_mat, part.mixed_mat)\n",
    "print(\"Ordered matrix:\")\n",
    "print(part.ordered_mat)\n",
    "print(\"\\n\")"
   ]
  },
  {
   "cell_type": "code",
   "execution_count": 45,
   "metadata": {},
   "outputs": [
    {
     "name": "stdout",
     "output_type": "stream",
     "text": [
      "Hello 5\n"
     ]
    }
   ],
   "source": [
    "a = 5\n",
    "print(f\"Hello {a}\")"
   ]
  },
  {
   "cell_type": "code",
   "execution_count": null,
   "metadata": {},
   "outputs": [],
   "source": []
  }
 ],
 "metadata": {
  "kernelspec": {
   "display_name": "Python(markowitz_partitioning)",
   "language": "python",
   "name": "markowitz_partitioning"
  },
  "language_info": {
   "codemirror_mode": {
    "name": "ipython",
    "version": 3
   },
   "file_extension": ".py",
   "mimetype": "text/x-python",
   "name": "python",
   "nbconvert_exporter": "python",
   "pygments_lexer": "ipython3",
   "version": "3.7.4"
  }
 },
 "nbformat": 4,
 "nbformat_minor": 2
}
