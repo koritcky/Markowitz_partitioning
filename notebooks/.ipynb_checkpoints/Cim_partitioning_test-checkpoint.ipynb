{
 "cells": [
  {
   "cell_type": "code",
   "execution_count": 1,
   "metadata": {},
   "outputs": [
    {
     "ename": "ModuleNotFoundError",
     "evalue": "No module named 'modules'",
     "output_type": "error",
     "traceback": [
      "\u001b[0;31m---------------------------------------------------------------------------\u001b[0m",
      "\u001b[0;31mModuleNotFoundError\u001b[0m                       Traceback (most recent call last)",
      "\u001b[0;32m<ipython-input-1-581149ff5a83>\u001b[0m in \u001b[0;36m<module>\u001b[0;34m\u001b[0m\n\u001b[1;32m      2\u001b[0m \u001b[0;32mimport\u001b[0m \u001b[0mtime\u001b[0m\u001b[0;34m\u001b[0m\u001b[0;34m\u001b[0m\u001b[0m\n\u001b[1;32m      3\u001b[0m \u001b[0;34m\u001b[0m\u001b[0m\n\u001b[0;32m----> 4\u001b[0;31m \u001b[0;32mfrom\u001b[0m \u001b[0mmodules\u001b[0m\u001b[0;34m.\u001b[0m\u001b[0mpartitioning\u001b[0m \u001b[0;32mimport\u001b[0m \u001b[0mPartitioning\u001b[0m\u001b[0;34m\u001b[0m\u001b[0;34m\u001b[0m\u001b[0m\n\u001b[0m",
      "\u001b[0;31mModuleNotFoundError\u001b[0m: No module named 'modules'"
     ]
    }
   ],
   "source": [
    "import numpy as np\n",
    "import time\n",
    "\n",
    "from modules.partitioning import Partitioning"
   ]
  },
  {
   "cell_type": "code",
   "execution_count": 4,
   "metadata": {},
   "outputs": [],
   "source": [
    "np.random.seed(4)\n",
    "# Make console print look better\n",
    "np.set_printoptions(precision=4,  # Digits after point\n",
    "                    linewidth=170,  # Length of the line\n",
    "                    suppress=True)  # Always fixed point notation\n",
    "\n",
    "block_dim = [3, 3, 3]\n",
    "size = sum(block_dim)"
   ]
  },
  {
   "cell_type": "code",
   "execution_count": 10,
   "metadata": {},
   "outputs": [
    {
     "name": "stdout",
     "output_type": "stream",
     "text": [
      "Given random block matrix:\n",
      "[[-6.2318 -1.0316 -1.7564  1.0368  1.0959  0.      0.      0.      0.      0.      0.      0.    ]\n",
      " [-1.0316 -0.0583  1.6041 -2.6571 -0.5141  0.      0.      0.      0.      0.      0.      0.    ]\n",
      " [-1.7564  1.6041 -1.5973 -0.3737 -1.8738  0.      0.      0.      0.      0.      0.      0.    ]\n",
      " [ 1.0368 -2.6571 -0.3737 -3.4071  0.5497  0.      0.      0.      0.      0.      0.      0.    ]\n",
      " [ 1.0959 -0.5141 -1.8738  0.5497  0.6908  0.      0.      0.      0.      0.      0.      0.    ]\n",
      " [ 0.      0.      0.      0.      0.      0.8505 -4.013   0.2523  0.      0.      0.      0.    ]\n",
      " [ 0.      0.      0.      0.      0.     -4.013  -1.8341 -0.5061  0.      0.      0.      0.    ]\n",
      " [ 0.      0.      0.      0.      0.      0.2523 -0.5061 -1.9557  0.      0.      0.      0.    ]\n",
      " [ 0.      0.      0.      0.      0.      0.      0.      0.     -1.443  -1.4892 -3.7894 -2.3677]\n",
      " [ 0.      0.      0.      0.      0.      0.      0.      0.     -1.4892 -1.0341 -0.8467 -2.2465]\n",
      " [ 0.      0.      0.      0.      0.      0.      0.      0.     -3.7894 -0.8467  0.0712 -2.1376]\n",
      " [ 0.      0.      0.      0.      0.      0.      0.      0.     -2.3677 -2.2465 -2.1376 -2.8618]]\n",
      "\n",
      "\n",
      "Random permutation matrix:\n",
      "[[0. 0. 0. 0. 0. 0. 0. 0. 0. 0. 0. 1.]\n",
      " [0. 0. 0. 1. 0. 0. 0. 0. 0. 0. 0. 0.]\n",
      " [0. 0. 1. 0. 0. 0. 0. 0. 0. 0. 0. 0.]\n",
      " [0. 0. 0. 0. 1. 0. 0. 0. 0. 0. 0. 0.]\n",
      " [0. 1. 0. 0. 0. 0. 0. 0. 0. 0. 0. 0.]\n",
      " [0. 0. 0. 0. 0. 0. 0. 0. 0. 0. 1. 0.]\n",
      " [0. 0. 0. 0. 0. 0. 0. 1. 0. 0. 0. 0.]\n",
      " [0. 0. 0. 0. 0. 1. 0. 0. 0. 0. 0. 0.]\n",
      " [0. 0. 0. 0. 0. 0. 0. 0. 1. 0. 0. 0.]\n",
      " [0. 0. 0. 0. 0. 0. 1. 0. 0. 0. 0. 0.]\n",
      " [1. 0. 0. 0. 0. 0. 0. 0. 0. 0. 0. 0.]\n",
      " [0. 0. 0. 0. 0. 0. 0. 0. 0. 1. 0. 0.]]\n",
      "\n",
      "\n",
      "Mixed matrix\n",
      "[[ 0.0712  0.      0.      0.      0.      0.     -0.8467  0.     -3.7894 -2.1376  0.      0.    ]\n",
      " [ 0.      0.6908 -1.8738 -0.5141  0.5497  0.      0.      0.      0.      0.      0.      1.0959]\n",
      " [ 0.     -1.8738 -1.5973  1.6041 -0.3737  0.      0.      0.      0.      0.      0.     -1.7564]\n",
      " [ 0.     -0.5141  1.6041 -0.0583 -2.6571  0.      0.      0.      0.      0.      0.     -1.0316]\n",
      " [ 0.      0.5497 -0.3737 -2.6571 -3.4071  0.      0.      0.      0.      0.      0.      1.0368]\n",
      " [ 0.      0.      0.      0.      0.     -1.9557  0.     -0.5061  0.      0.      0.2523  0.    ]\n",
      " [-0.8467  0.      0.      0.      0.      0.     -1.0341  0.     -1.4892 -2.2465  0.      0.    ]\n",
      " [ 0.      0.      0.      0.      0.     -0.5061  0.     -1.8341  0.      0.     -4.013   0.    ]\n",
      " [-3.7894  0.      0.      0.      0.      0.     -1.4892  0.     -1.443  -2.3677  0.      0.    ]\n",
      " [-2.1376  0.      0.      0.      0.      0.     -2.2465  0.     -2.3677 -2.8618  0.      0.    ]\n",
      " [ 0.      0.      0.      0.      0.      0.2523  0.     -4.013   0.      0.      0.8505  0.    ]\n",
      " [ 0.      1.0959 -1.7564 -1.0316  1.0368  0.      0.      0.      0.      0.      0.     -6.2318]]\n",
      "\n",
      "\n"
     ]
    }
   ],
   "source": [
    "block_mat = Partitioning.rand_sym_block_gen(block_dim)\n",
    "_, mixed_mat = Partitioning.mixed_matrix_generator(block_mat=block_mat)\n",
    "part = Partitioning(mixed_mat, theta = 50)"
   ]
  },
  {
   "cell_type": "code",
   "execution_count": null,
   "metadata": {},
   "outputs": [
    {
     "name": "stdout",
     "output_type": "stream",
     "text": [
      "CIM starts\n"
     ]
    }
   ],
   "source": [
    "%%notify\n",
    "%%time\n",
    "\n",
    "params = {'c_th': 1.,\n",
    "          'zeta': 1.,\n",
    "          'init_coupling': 0.3,\n",
    "          'final_coupling': 1.,\n",
    "          'N': 1000,\n",
    "          'attempt_num': 30000,\n",
    "          'dt': 0.0019,\n",
    "          'sigma': 695.891,\n",
    "          'alpha': 0.9928,\n",
    "          'S': 1.1689,\n",
    "          'D': -163.423,\n",
    "          'O': 0.8966}\n",
    "print(\"CIM starts\")\n",
    "start = time.time()\n",
    "_, solution = part.cim_solver(params=params)\n",
    "end_cim = time.time()\n",
    "print(\"CIM ends\")\n",
    "print(end_cim - start)"
   ]
  },
  {
   "cell_type": "code",
   "execution_count": null,
   "metadata": {},
   "outputs": [],
   "source": [
    "part.permutation_mat = part.list_to_mat(solution)\n",
    "print(\"Solution permutation matrix:\")\n",
    "print(part.permutation_mat)\n",
    "print(\"\\n\")\n",
    "\n",
    "# Check, whether solution matrix is permutation one\n",
    "if not part.permutation_check(part.permutation_mat):\n",
    "    print('\\033[93m' + \"Solution is not permutation matrix. \" +\n",
    "          \"Trying to fix it\" + '\\033[0m')\n",
    "    new_solution_permutation_mat = part.to_permutation(part.permutation_mat)\n",
    "    if part.permutation_check(new_solution_permutation_mat):\n",
    "        print('\\033[93m' + \"Success!\" + '\\033[0m')\n",
    "        part.permutation_mat = new_solution_permutation_mat\n",
    "    print(\"Solution matrix after fixing:\")\n",
    "    print(part.permutation_mat)\n",
    "\n",
    "part.ordered_mat = part.permute(part.permutation_mat, part.mixed_mat)\n",
    "print(\"Ordered matrix:\")\n",
    "print(part.ordered_mat)\n",
    "print(\"\\n\")"
   ]
  },
  {
   "cell_type": "code",
   "execution_count": null,
   "metadata": {},
   "outputs": [],
   "source": []
  }
 ],
 "metadata": {
  "kernelspec": {
   "display_name": "PyCharm (Markowitz_partitioning)",
   "language": "python",
   "name": "pycharm-7900be63"
  },
  "language_info": {
   "codemirror_mode": {
    "name": "ipython",
    "version": 3
   },
   "file_extension": ".py",
   "mimetype": "text/x-python",
   "name": "python",
   "nbconvert_exporter": "python",
   "pygments_lexer": "ipython3",
   "version": "3.7.3"
  }
 },
 "nbformat": 4,
 "nbformat_minor": 2
}
