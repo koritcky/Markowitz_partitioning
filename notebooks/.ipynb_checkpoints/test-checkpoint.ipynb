{
 "cells": [
  {
   "cell_type": "code",
   "execution_count": 3,
   "metadata": {},
   "outputs": [],
   "source": [
    "import numpy as np\n",
    "import os\n",
    "import dimod\n",
    "from modules.cimsim import ising_utilits\n",
    "os.chdir('/home/koritskiy/Yandex.Disk/personal/rqc/markowitz_partitioning')\n",
    "os.getcwd()\n",
    "from modules.partitioning import Partitioning\n",
    "\n",
    "# Make console print look better\n",
    "np.set_printoptions(precision=3,  # Digits after point\n",
    "                    linewidth=170,  # Length of the line\n",
    "                    suppress=True)  # Always fixed point notation (not scientific)\n"
   ]
  },
  {
   "cell_type": "code",
   "execution_count": 4,
   "metadata": {
    "scrolled": false
   },
   "outputs": [
    {
     "data": {
      "text/plain": [
       "-1969.0043282013191"
      ]
     },
     "execution_count": 4,
     "metadata": {},
     "output_type": "execute_result"
    }
   ],
   "source": [
    "mixed_mat = np.genfromtxt(\"/home/koritskiy/Yandex.Disk/personal/rqc/markowitz_partitioning/data/test_matrices/334/mixed_mat334.csv\", delimiter = \",\")\n",
    "mix_permutation_mat = np.genfromtxt(\"/home/koritskiy/Yandex.Disk/personal/rqc/markowitz_partitioning/data/test_matrices/334/mix_permutation_mat334.csv\", delimiter = \",\")\n",
    "solution_mat = mix_permutation_mat.T\n",
    "solution_vec = np.reshape(solution_mat, (1,100))[0]\n",
    "part = Partitioning(mixed_mat = mixed_mat, theta = 100)\n",
    "part.solution_energy(solution_vec)\n",
    "# energy, solution = part.exact_solver()"
   ]
  },
  {
   "cell_type": "code",
   "execution_count": 5,
   "metadata": {},
   "outputs": [],
   "source": [
    "h, J,_ = part.bqm.to_ising()\n",
    "ising_utilits.to_ising_file(h, J, \"334.txt\")"
   ]
  },
  {
   "cell_type": "code",
   "execution_count": null,
   "metadata": {},
   "outputs": [],
   "source": []
  }
 ],
 "metadata": {
  "kernelspec": {
   "display_name": "Python (markowitz_partitioning)",
   "language": "python",
   "name": "markowitz_partitioning"
  },
  "language_info": {
   "codemirror_mode": {
    "name": "ipython",
    "version": 3
   },
   "file_extension": ".py",
   "mimetype": "text/x-python",
   "name": "python",
   "nbconvert_exporter": "python",
   "pygments_lexer": "ipython3",
   "version": "3.7.3"
  }
 },
 "nbformat": 4,
 "nbformat_minor": 2
}
