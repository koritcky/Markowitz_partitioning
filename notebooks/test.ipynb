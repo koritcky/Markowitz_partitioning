{
 "cells": [
  {
   "cell_type": "code",
   "execution_count": 2,
   "metadata": {},
   "outputs": [],
   "source": [
    "import numpy as np\n",
    "import os\n",
    "import dimod\n",
    "os.chdir('/home/koritskiy/Yandex.Disk/personal/rqc/markowitz_partitioning')\n",
    "from modules.cimsim import ising_utilits\n",
    "os.getcwd()\n",
    "from modules.partitioning import Partitioning\n",
    "\n",
    "# Make console print look better\n",
    "np.set_printoptions(precision=3,  # Digits after point\n",
    "                    linewidth=170,  # Length of the line\n",
    "                    suppress=True)  # Always fixed point notation (not scientific)\n"
   ]
  },
  {
   "cell_type": "code",
   "execution_count": 4,
   "metadata": {
    "scrolled": false
   },
   "outputs": [
    {
     "data": {
      "text/plain": [
       "-1738.1157338387816"
      ]
     },
     "execution_count": 4,
     "metadata": {},
     "output_type": "execute_result"
    }
   ],
   "source": [
    "dim = \"334\"\n",
    "mixed_mat = np.genfromtxt(f\"/home/koritskiy/Yandex.Disk/personal/rqc/markowitz_partitioning/data/test_matrices/{dim}/mixed_mat{dim}.csv\", delimiter = \",\")\n",
    "mix_permutation_mat = np.genfromtxt(f\"/home/koritskiy/Yandex.Disk/personal/rqc/markowitz_partitioning/data/test_matrices/{dim}/mix_permutation_mat{dim}.csv\", delimiter = \",\")\n",
    "solution_mat = mix_permutation_mat.T\n",
    "solution_vec = np.reshape(solution_mat, (1,100))[0]\n",
    "part = Partitioning(mixed_mat = mixed_mat, theta = 100)\n",
    "part.solution_energy(solution_vec)\n",
    "# energy, solution = part.exact_solver()\n",
    "\n"
   ]
  },
  {
   "cell_type": "code",
   "execution_count": 7,
   "metadata": {},
   "outputs": [],
   "source": [
    "h, J,_ = part.bqm.to_ising()\n",
    "ising_utilits.to_ising_file(h, J, f\"/home/koritskiy/Yandex.Disk/personal/rqc/markowitz_partitioning/data/test_matrices/{dim}/ising{dim}.txt\")"
   ]
  },
  {
   "cell_type": "code",
   "execution_count": null,
   "metadata": {},
   "outputs": [],
   "source": []
  }
 ],
 "metadata": {
  "kernelspec": {
   "display_name": "Python 3",
   "language": "python",
   "name": "python3"
  },
  "language_info": {
   "codemirror_mode": {
    "name": "ipython",
    "version": 3
   },
   "file_extension": ".py",
   "mimetype": "text/x-python",
   "name": "python",
   "nbconvert_exporter": "python",
   "pygments_lexer": "ipython3",
   "version": "3.7.3"
  }
 },
 "nbformat": 4,
 "nbformat_minor": 2
}
