{
 "cells": [
  {
   "cell_type": "code",
   "execution_count": 1,
   "metadata": {
    "colab": {},
    "colab_type": "code",
    "id": "gqVGmI8c3jYw"
   },
   "outputs": [],
   "source": [
    "import numpy as np\n",
    "import torch\n",
    "import matplotlib\n",
    "import matplotlib.pyplot as plt\n",
    "import time\n",
    "import pickle\n",
    "import pandas as pd\n",
    "from cimsim import CIMSim\n",
    "\n",
    "import mloop.interfaces as mli\n",
    "import mloop.controllers as mlc\n",
    "import mloop.visualizations as mlv"
   ]
  },
  {
   "cell_type": "code",
   "execution_count": 2,
   "metadata": {
    "colab": {},
    "colab_type": "code",
    "id": "JIwfgfsN3jZw"
   },
   "outputs": [],
   "source": [
    "class SimcimInterface(mli.Interface):\n",
    "    def __init__(self, simcim, clip_percents=5): \n",
    "        super(SimcimInterface, self).__init__()\n",
    "        self.simcim=simcim\n",
    "        self.simcim.evolve()\n",
    "        self.perc = np.percentile(np.array(simcim.lastcuts.cpu()), clip_percents)\n",
    "        \n",
    "    def get_sim_params(self, packed_params):\n",
    "        num_single = 6\n",
    "        logsig, logdt, shlogalpha, logS, logD, logO  = packed_params[:num_single]\n",
    "        \n",
    "        sigma = 10**logsig\n",
    "        dt = 10**logdt\n",
    "        alpha = 1-10**shlogalpha\n",
    "        S=10**logS\n",
    "        D=-10**logD\n",
    "        O=10**logO\n",
    "        \n",
    "        return sigma, dt, alpha, S, D, O\n",
    "        \n",
    "        \n",
    "    def get_next_cost_dict(self, params_dict):\n",
    "        params = params_dict['params']\n",
    "        \n",
    "        sigma, dt, alpha, S, D, O = self.get_sim_params(params)\n",
    "        \n",
    "        print('\\nSIMCIM: \\'sigma\\':{}, \\'dt\\':{}, \\'alpha\\':{}, \\'S\\':{}, \\'D\\':{}, \\'O\\':{}\\n'.format(sigma,dt,alpha, S, D, O))\n",
    "        \n",
    "        self.simcim.set_params({\"sigma\":sigma, \"dt\":dt,\"alpha\":alpha,\"S\":S,\"O\":O,\"D\":D})\n",
    "        self.simcim.evolve()\n",
    "        \n",
    "        cost = (-max([np.percentile(np.array(self.simcim.lastcuts.cpu()), clip_percents)/self.perc,1])+1)*100000 #np.min(self.simcim.lastcuts)\n",
    "        uncer = 0\n",
    "        bad = False\n",
    "        print('Initial perc', self.perc)\n",
    "        print('Final perc', (np.percentile(np.array(self.simcim.lastcuts.cpu()), clip_percents)))\n",
    "        print('Final energy', np.min(np.array(self.simcim.lastcuts.cpu())))\n",
    "        cost_dict = {'cost':cost, 'uncer':uncer, 'bad':bad}\n",
    "        return cost_dict"
   ]
  },
  {
   "cell_type": "markdown",
   "metadata": {},
   "source": [
    "# Neural Network"
   ]
  },
  {
   "cell_type": "code",
   "execution_count": 3,
   "metadata": {
    "colab": {},
    "colab_type": "code",
    "id": "R5ccKV9T3jaB",
    "scrolled": true
   },
   "outputs": [
    {
     "ename": "FileNotFoundError",
     "evalue": "[Errno 2] No such file or directory: 'block_4_ising.txt'",
     "output_type": "error",
     "traceback": [
      "\u001b[0;31m---------------------------------------------------------------------------\u001b[0m",
      "\u001b[0;31mFileNotFoundError\u001b[0m                         Traceback (most recent call last)",
      "\u001b[0;32m<ipython-input-3-b3bce1ada3a0>\u001b[0m in \u001b[0;36m<module>\u001b[0;34m\u001b[0m\n\u001b[1;32m      5\u001b[0m \u001b[0msim\u001b[0m\u001b[0;34m=\u001b[0m\u001b[0mCIMSim\u001b[0m\u001b[0;34m(\u001b[0m\u001b[0mdevice\u001b[0m\u001b[0;34m=\u001b[0m\u001b[0;34m\"cpu\"\u001b[0m\u001b[0;34m)\u001b[0m\u001b[0;34m\u001b[0m\u001b[0;34m\u001b[0m\u001b[0m\n\u001b[1;32m      6\u001b[0m \u001b[0msim\u001b[0m\u001b[0;34m.\u001b[0m\u001b[0mset_params\u001b[0m\u001b[0;34m(\u001b[0m\u001b[0;34m{\u001b[0m\u001b[0;34m\"attempt_num\"\u001b[0m\u001b[0;34m:\u001b[0m\u001b[0;36m500\u001b[0m\u001b[0;34m}\u001b[0m\u001b[0;34m)\u001b[0m\u001b[0;34m\u001b[0m\u001b[0;34m\u001b[0m\u001b[0m\n\u001b[0;32m----> 7\u001b[0;31m \u001b[0msim\u001b[0m\u001b[0;34m.\u001b[0m\u001b[0mload_matrix\u001b[0m\u001b[0;34m(\u001b[0m\u001b[0;34m\"block_4_ising.txt\"\u001b[0m\u001b[0;34m)\u001b[0m\u001b[0;34m\u001b[0m\u001b[0;34m\u001b[0m\u001b[0m\n\u001b[0m\u001b[1;32m      8\u001b[0m \u001b[0;31m# sim.load_matrix(\"markowitz_data/G_markowitz_1804_20_ising.txt\")\u001b[0m\u001b[0;34m\u001b[0m\u001b[0;34m\u001b[0m\u001b[0;34m\u001b[0m\u001b[0m\n\u001b[1;32m      9\u001b[0m \u001b[0;31m#sim.load_matrix(\"benchmark_2105/G_markowitz_2105_50_1.txt\")\u001b[0m\u001b[0;34m\u001b[0m\u001b[0;34m\u001b[0m\u001b[0;34m\u001b[0m\u001b[0m\n",
      "\u001b[0;32m~/Yandex.Disk/Personal/RQC/Markowitz_partitioning/SimCIM/cimsim.py\u001b[0m in \u001b[0;36mload_matrix\u001b[0;34m(self, filename, make_symmetric, quadratic_coeff)\u001b[0m\n\u001b[1;32m    103\u001b[0m \u001b[0;34m\u001b[0m\u001b[0m\n\u001b[1;32m    104\u001b[0m     \u001b[0;32mdef\u001b[0m \u001b[0mload_matrix\u001b[0m\u001b[0;34m(\u001b[0m\u001b[0mself\u001b[0m\u001b[0;34m,\u001b[0m \u001b[0mfilename\u001b[0m\u001b[0;34m,\u001b[0m \u001b[0mmake_symmetric\u001b[0m \u001b[0;34m=\u001b[0m \u001b[0;32mTrue\u001b[0m\u001b[0;34m,\u001b[0m \u001b[0mquadratic_coeff\u001b[0m \u001b[0;34m=\u001b[0m \u001b[0;36m2.0\u001b[0m\u001b[0;34m)\u001b[0m\u001b[0;34m:\u001b[0m\u001b[0;34m\u001b[0m\u001b[0;34m\u001b[0m\u001b[0m\n\u001b[0;32m--> 105\u001b[0;31m         \u001b[0mfile\u001b[0m \u001b[0;34m=\u001b[0m \u001b[0mopen\u001b[0m\u001b[0;34m(\u001b[0m\u001b[0mfilename\u001b[0m\u001b[0;34m,\u001b[0m \u001b[0;34m'rb'\u001b[0m\u001b[0;34m)\u001b[0m\u001b[0;34m\u001b[0m\u001b[0;34m\u001b[0m\u001b[0m\n\u001b[0m\u001b[1;32m    106\u001b[0m \u001b[0;34m\u001b[0m\u001b[0m\n\u001b[1;32m    107\u001b[0m         \u001b[0mslope_factor\u001b[0m \u001b[0;34m=\u001b[0m \u001b[0mfloat\u001b[0m\u001b[0;34m(\u001b[0m\u001b[0mfile\u001b[0m\u001b[0;34m.\u001b[0m\u001b[0mreadline\u001b[0m\u001b[0;34m(\u001b[0m\u001b[0;34m)\u001b[0m\u001b[0;34m)\u001b[0m\u001b[0;34m\u001b[0m\u001b[0;34m\u001b[0m\u001b[0m\n",
      "\u001b[0;31mFileNotFoundError\u001b[0m: [Errno 2] No such file or directory: 'block_4_ising.txt'"
     ]
    }
   ],
   "source": [
    "clip_percents=5\n",
    "population_size=7\n",
    "percentile = 5\n",
    "\n",
    "sim=CIMSim(device=\"cpu\")\n",
    "sim.set_params({\"attempt_num\":500})\n",
    "sim.load_matrix(\"block_4_ising.txt\")\n",
    "# sim.load_matrix(\"markowitz_data/G_markowitz_1804_20_ising.txt\")\n",
    "#sim.load_matrix(\"benchmark_2105/G_markowitz_2105_50_1.txt\")\n",
    "#sim.load_matrix(\"benchmark_frontier/G_markowitz_0307_500_1_frontier_1.txt\")\n",
    "interface = SimcimInterface(sim, clip_percents = percentile)\n",
    "\n",
    "first_params = np.array([np.log10(sim.sigma), np.log10(sim.dt), np.log10(sim.alpha), np.log10(sim.S), np.log10(np.abs(sim.D)), np.log10(sim.O)])\n",
    "min_boundary = np.array([-2,-7,-5,-2,-5,-4])\n",
    "max_boundary = np.array([5, -1, 0,2, 5, 4])\n",
    "num_params = 6\n",
    "config = dict(controller_type='neural_net', \n",
    "              training_type = 'differential_evolution',\n",
    "              first_params = first_params,\n",
    "              min_boundary = min_boundary, \n",
    "              max_boundary = max_boundary,\n",
    "              num_params = num_params, \n",
    "              trust_region = 0.5,#0.5\n",
    "              max_num_runs = 30000,\n",
    "              num_training_runs = 2 * num_params,\n",
    "              log_level = 0, \n",
    "              no_delay = False, \n",
    "              max_num_runs_without_better_params = 5000, \n",
    "              #evolution_strategy='best1', \n",
    "              population_size=10, \n",
    "              mutation_scale = (0.5,1.0), \n",
    "              cross_over_probability = 0.7, \n",
    "              default_bad_cost = 0.0, \n",
    "              default_bad_uncertainty = 0.1,\n",
    "              predict_global_minima_at_end = True)\n",
    "\n",
    "controller = mlc.create_controller(interface, **config)\n",
    "controller.optimize()\n",
    "\n",
    "#clear_output(True)\n",
    "\n",
    "print('Best cut found:')\n",
    "print(controller.best_cost)\n",
    "\n",
    "# mlv.show_all_default_visualizations(controller)\n"
   ]
  },
  {
   "cell_type": "code",
   "execution_count": 7,
   "metadata": {},
   "outputs": [
    {
     "data": {
      "text/plain": [
       "array([ 3.02736879, -4.2982097 , -0.19160074, -1.82390874, -4.18725161,\n",
       "       -0.35372609])"
      ]
     },
     "execution_count": 7,
     "metadata": {},
     "output_type": "execute_result"
    }
   ],
   "source": [
    "controller.best_params"
   ]
  },
  {
   "cell_type": "code",
   "execution_count": null,
   "metadata": {},
   "outputs": [],
   "source": [
    "-46036"
   ]
  }
 ],
 "metadata": {
  "accelerator": "GPU",
  "colab": {
   "collapsed_sections": [],
   "name": "QUBO 10 units class tanh .ipynb",
   "provenance": [],
   "version": "0.3.2"
  },
  "kernelspec": {
   "display_name": "Python 3",
   "language": "python",
   "name": "python3"
  },
  "language_info": {
   "codemirror_mode": {
    "name": "ipython",
    "version": 3
   },
   "file_extension": ".py",
   "mimetype": "text/x-python",
   "name": "python",
   "nbconvert_exporter": "python",
   "pygments_lexer": "ipython3",
   "version": "3.7.3"
  }
 },
 "nbformat": 4,
 "nbformat_minor": 1
}
