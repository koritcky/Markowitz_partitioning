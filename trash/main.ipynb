{
 "cells": [
  {
   "cell_type": "code",
   "execution_count": 32,
   "metadata": {
    "pycharm": {
     "is_executing": false
    }
   },
   "outputs": [
    {
     "name": "stdout",
     "text": [
      "Hello\n"
     ],
     "output_type": "stream"
    }
   ],
   "source": [
    "import numpy as np\n",
    "\n",
    "from partitioning import Partitioning\n",
    "from markowitz import Portfolio\n",
    "from recomposers import Recomposers\n",
    "print(\"Hello\")"
   ]
  },
  {
   "cell_type": "code",
   "execution_count": 33,
   "metadata": {
    "pycharm": {
     "is_executing": false
    }
   },
   "outputs": [],
   "source": [
    "# Make console print look better\n",
    "np.set_printoptions(precision=2,  # Digits after point\n",
    "                    linewidth=170,  # Length of the line\n",
    "                    suppress=True)  # Always fixed point notation"
   ]
  },
  {
   "cell_type": "code",
   "execution_count": 36,
   "metadata": {
    "pycharm": {
     "is_executing": false
    }
   },
   "outputs": [
    {
     "traceback": [
      "\u001b[0;31m---------------------------------------------------------------------------\u001b[0m",
      "\u001b[0;31mTypeError\u001b[0m                                 Traceback (most recent call last)",
      "\u001b[0;32m<ipython-input-36-8fcfe492b26b>\u001b[0m in \u001b[0;36m<module>\u001b[0;34m\u001b[0m\n\u001b[1;32m     11\u001b[0m \u001b[0mprices\u001b[0m \u001b[0;34m=\u001b[0m \u001b[0mnp\u001b[0m\u001b[0;34m.\u001b[0m\u001b[0mrandom\u001b[0m\u001b[0;34m.\u001b[0m\u001b[0mrand\u001b[0m\u001b[0;34m(\u001b[0m\u001b[0msize\u001b[0m\u001b[0;34m)\u001b[0m\u001b[0;34m\u001b[0m\u001b[0;34m\u001b[0m\u001b[0m\n\u001b[1;32m     12\u001b[0m \u001b[0mtheta\u001b[0m \u001b[0;34m=\u001b[0m \u001b[0;34m[\u001b[0m\u001b[0;36m0.5\u001b[0m\u001b[0;34m,\u001b[0m \u001b[0;36m0.5\u001b[0m\u001b[0;34m,\u001b[0m \u001b[0;36m0\u001b[0m\u001b[0;34m]\u001b[0m\u001b[0;34m\u001b[0m\u001b[0;34m\u001b[0m\u001b[0m\n\u001b[0;32m---> 13\u001b[0;31m \u001b[0mblock_mat\u001b[0m\u001b[0;34m,\u001b[0m \u001b[0mmixed_mat\u001b[0m \u001b[0;34m=\u001b[0m \u001b[0mPartitioning\u001b[0m\u001b[0;34m.\u001b[0m\u001b[0mmixed_matrix_generator\u001b[0m\u001b[0;34m(\u001b[0m\u001b[0mblock_dim\u001b[0m\u001b[0;34m=\u001b[0m\u001b[0mblock_dim\u001b[0m\u001b[0;34m)\u001b[0m\u001b[0;34m\u001b[0m\u001b[0;34m\u001b[0m\u001b[0m\n\u001b[0m\u001b[1;32m     14\u001b[0m \u001b[0mcovariance\u001b[0m \u001b[0;34m=\u001b[0m \u001b[0mmixed_mat\u001b[0m\u001b[0;34m\u001b[0m\u001b[0;34m\u001b[0m\u001b[0m\n\u001b[1;32m     15\u001b[0m \u001b[0;34m\u001b[0m\u001b[0m\n",
      "\u001b[0;31mTypeError\u001b[0m: mixed_matrix_generator() missing 1 required positional argument: 'self'"
     ],
     "ename": "TypeError",
     "evalue": "mixed_matrix_generator() missing 1 required positional argument: 'self'",
     "output_type": "error"
    }
   ],
   "source": [
    "# Fix seed to get non-random result\n",
    "# (Remove after debugging)\n",
    "np.random.seed(3)\n",
    "\n",
    "# Block dimensions to generate\n",
    "block_dim = [3, 1]\n",
    "size = sum(block_dim)\n",
    "\n",
    "# Generate random inputs for portfolio\n",
    "averages = np.random.rand(size)\n",
    "prices = np.random.rand(size)\n",
    "theta = [0.5, 0.5, 0]\n",
    "block_mat, mixed_mat = Partitioning.mixed_matrix_generator(block_dim=block_dim)\n",
    "covariance = mixed_mat\n",
    "\n",
    "# It also has to have covariance matrix. We assume that it is quazi-block.\n",
    "# We want to find blocks. With out toy example we would create block matrix (with block_dim)\n",
    "# Then we mix it and try to find proper permutation to return it's block shape.\n",
    "\n",
    "# A whole problem of finding permutation requires new class object.\n",
    "part = Partitioning(mixed_mat) # It was given block_dim, so block matrix structure was generated automatically\n",
    "\n",
    "\n",
    "# Create main object: portfolio instance:\n",
    "portfolio = Portfolio(theta=theta,\n",
    "                      averages=averages,\n",
    "                      prices=prices,\n",
    "                      covariance=covariance)"
   ]
  },
  {
   "cell_type": "code",
   "execution_count": 11,
   "metadata": {
    "pycharm": {
     "is_executing": false
    }
   },
   "outputs": [
    {
     "name": "stdout",
     "text": [
      "Solution permutation matrix:\n[[0 0 0 1]\n [1 0 0 0]\n [0 0 1 0]\n [0 1 0 0]]\n\n\nOrdered matrix:\n[[0.56 0.   0.   0.  ]\n [0.   0.1  0.9  0.71]\n [0.   0.9  1.3  0.87]\n [0.   0.71 0.87 0.05]]\n\n\n"
     ],
     "output_type": "stream"
    }
   ],
   "source": [
    "# Get solution_permutation matrix by exact solver\n",
    "_, solution = part.ga_solver()\n",
    "part.permutation_mat = part.list_to_mat(solution)\n",
    "print(\"Solution permutation matrix:\")\n",
    "print(part.permutation_mat)\n",
    "print(\"\\n\")\n",
    "\n",
    "print(\"Ordered matrix:\")\n",
    "print(part.permute())\n",
    "print(\"\\n\")\n",
    "\n",
    "# Check, whether solution matrix is permutation one\n",
    "if not part.permutation_check(part.permutation_mat):\n",
    "    print('\\033[93m' + \"Solution is not permutation matrix\" +\n",
    "          \"Trying to fix it\" + '\\033[0m')\n",
    "    new_solution_permutation_mat = part.to_permutation(part.permutation_mat)\n",
    "    if part.permutation_check(new_solution_permutation_mat):\n",
    "        print('\\033[93m' + \"Success!\" + '\\033[0m')\n",
    "        part.permutation_mat = new_solution_permutation_mat\n",
    "    print(\"Solution matrix after fixing:\")\n",
    "    print(part.permutation_mat)"
   ]
  },
  {
   "cell_type": "code",
   "execution_count": 12,
   "metadata": {
    "pycharm": {
     "is_executing": false
    }
   },
   "outputs": [],
   "source": [
    "# Get a list of smaller portfolios which has covariance, prices and averages according to permutation\n",
    "portfolios = Recomposers.permutation_decomposer(portfolio=portfolio,\n",
    "                                                permutation_mat=part.permutation_mat,\n",
    "                                                max_dim=(max(block_dim) + 1))"
   ]
  },
  {
   "cell_type": "code",
   "execution_count": 25,
   "metadata": {
    "pycharm": {
     "is_executing": false
    }
   },
   "outputs": [
    {
     "name": "stdout",
     "text": [
      "[1]\n",
      "[0 0 1]\nExact solution:\n-0.3260639362237338 [1 1 0 0]\n\n\n",
      "[1]\n",
      "[0 0 1]\nExact solution:\n-0.3260639362237338 [1 1 0 0]\n\n\n",
      "[1]\n",
      "[0 0 1]\nExact solution:\n-0.3260639362237338 [1 1 0 0]\n\n\n"
     ],
     "output_type": "stream"
    }
   ],
   "source": [
    "# Here we get  several solutions \n",
    "\n",
    "# Solve each small portfolio task.\n",
    "solutions = []\n",
    "for port in portfolios:\n",
    "    _, small_solution = port.dwave_solver(num_reads=1)\n",
    "    solutions.append(small_solution)\n",
    "    \n",
    "# Apply permutation to concatenated solution to get the solution of the original portfolio\n",
    "composed_solution = Recomposers.permutation_solution_composer(solutions, part.permutation_mat)\n",
    "print(\"Solution with partitioning:\")\n",
    "print(portfolio.solution_energy(composed_solution), composed_solution)\n",
    "print(\"\\n\")"
   ]
  },
  {
   "cell_type": "code",
   "execution_count": 17,
   "metadata": {
    "pycharm": {
     "is_executing": false
    }
   },
   "outputs": [
    {
     "name": "stdout",
     "text": [
      "GA solution:\n-0.3260639362237338 [1 1 0 0]\nCPU times: user 1.83 s, sys: 3.95 ms, total: 1.84 s\nWall time: 1.84 s\n"
     ],
     "output_type": "stream"
    }
   ],
   "source": [
    "%%time\n",
    "# %%notify\n",
    "## Afterward genetic algorithm application ##\n",
    "# TODO: сделать топ n решений из dwave и засовывать их в ga как init_solution.\n",
    "# You can give it any iterable of good solutions, where ga would start from.\n",
    "\n",
    "new_prices = np.dot(prices, part.permutation_mat)\n",
    "new_averages= np.dot(averages, part.permutation_mat)\n",
    "\n",
    "new_portfolio = Portfolio(prices=new_prices,\n",
    "                          averages=new_averages,\n",
    "                          covariance=part.ordered_mat,\n",
    "                          theta = theta)\n",
    "\n",
    "ga_energy, ga_solution = new_portfolio.ga_solver(iteration_number=10,\n",
    "                                                 population_size= 100,\n",
    "                                                 init_solution=[composed_solution])                                  \n",
    "ga_solution = np.dot(ga_solution, part.permutation_mat.T) #part.permutation_mat.T is inversed to part.permutation_mat\n",
    "\n",
    "print(\"GA solution:\")\n",
    "print(ga_energy, ga_solution)"
   ]
  },
  {
   "cell_type": "code",
   "execution_count": null,
   "metadata": {
    "pycharm": {
     "is_executing": true
    }
   },
   "outputs": [],
   "source": [
    "# Now compare it with exact solution of the whole matrix\n",
    "print(\"Now compare it with exact solution of the whole matrix\")\n",
    "print(portfolio.exact_solver())"
   ]
  }
 ],
 "metadata": {
  "kernelspec": {
   "display_name": "PyCharm (Markowitz_partitioning)",
   "language": "python",
   "name": "pycharm-7900be63"
  },
  "language_info": {
   "codemirror_mode": {
    "name": "ipython",
    "version": 3
   },
   "file_extension": ".py",
   "mimetype": "text/x-python",
   "name": "python",
   "nbconvert_exporter": "python",
   "pygments_lexer": "ipython3",
   "version": "3.7.3"
  },
  "pycharm": {
   "stem_cell": {
    "cell_type": "raw",
    "source": [],
    "metadata": {
     "collapsed": false
    }
   }
  }
 },
 "nbformat": 4,
 "nbformat_minor": 2
}